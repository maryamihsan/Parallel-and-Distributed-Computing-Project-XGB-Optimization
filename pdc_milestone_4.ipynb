{
  "nbformat": 4,
  "nbformat_minor": 0,
  "metadata": {
    "colab": {
      "provenance": [],
      "gpuType": "T4"
    },
    "kernelspec": {
      "name": "python3",
      "display_name": "Python 3"
    },
    "language_info": {
      "name": "python"
    },
    "accelerator": "GPU"
  },
  "cells": [
    {
      "cell_type": "code",
      "execution_count": 1,
      "metadata": {
        "colab": {
          "base_uri": "https://localhost:8080/"
        },
        "id": "0NAhyMQAxxbD",
        "outputId": "f0418a12-ac52-4572-bb45-97265b9bf466"
      },
      "outputs": [
        {
          "output_type": "stream",
          "name": "stdout",
          "text": [
            "ROC AUC of the xgb model: 0.9634332871070214\n",
            "Sequential execution time: 15.32 seconds\n"
          ]
        }
      ],
      "source": [
        "import pandas as pd\n",
        "import numpy as np\n",
        "import time\n",
        "from sklearn.model_selection import train_test_split\n",
        "from sklearn.impute import SimpleImputer\n",
        "from sklearn.metrics import roc_auc_score\n",
        "from xgboost import XGBClassifier\n",
        "\n",
        "# Start timer\n",
        "start_time = time.time()\n",
        "\n",
        "# Loading data from files\n",
        "train = pd.read_csv('/content/train_set.csv')\n",
        "test = pd.read_csv('/content/test_set.csv')\n",
        "\n",
        "# Separating attributes and labels\n",
        "X = train.drop(columns=['Y', 'RecordId'])\n",
        "Y = train['Y']\n",
        "test = test.drop(columns=['RecordId'])\n",
        "\n",
        "# Imputing missing values\n",
        "imputer = SimpleImputer(strategy='mean')\n",
        "X = imputer.fit_transform(X)\n",
        "test = imputer.transform(test)\n",
        "\n",
        "# Splitting dataset\n",
        "X_train, X_test, y_train, y_test = train_test_split(X, Y, test_size=0.2, random_state=42)\n",
        "\n",
        "# Training XGBoost model\n",
        "xgb_model = XGBClassifier(\n",
        "    max_depth=3,\n",
        "    n_estimators=261,\n",
        "    learning_rate=0.1,\n",
        "    min_child_weight=2,\n",
        "    subsample=0.8,\n",
        "    colsample_bytree=0.8\n",
        ")\n",
        "xgb_model.fit(X_train, y_train)\n",
        "\n",
        "# Predicting and scoring\n",
        "predicted_probab = xgb_model.predict_proba(X_test)[:, 1]\n",
        "auc_score = roc_auc_score(y_test, predicted_probab)\n",
        "print('ROC AUC of the xgb model:', auc_score)\n",
        "\n",
        "# Final prediction\n",
        "final_prob = xgb_model.predict_proba(test)[:, 1]\n",
        "\n",
        "# End timer\n",
        "end_time = time.time()\n",
        "print(f\"Sequential execution time: {end_time - start_time:.2f} seconds\")\n",
        "\n",
        "# Saving predictions to CSV\n",
        "df_sample = pd.read_csv('/content/sample_submission.csv')  # <-- corrected line\n",
        "df_sample['Y'] = final_prob\n",
        "df_sample.to_csv('/content/sample_submission_xgbboost.csv', index=False)\n"
      ]
    },
    {
      "cell_type": "code",
      "source": [
        "import pandas as pd\n",
        "import numpy as np\n",
        "import time\n",
        "from joblib import Parallel, delayed\n",
        "from sklearn.model_selection import train_test_split\n",
        "from sklearn.impute import SimpleImputer\n",
        "from sklearn.metrics import roc_auc_score\n",
        "from xgboost import XGBClassifier\n",
        "\n",
        "# Start timer\n",
        "start_time = time.time()\n",
        "\n",
        "# Load data\n",
        "train = pd.read_csv('/content/train_set.csv')\n",
        "test = pd.read_csv('/content/test_set.csv')\n",
        "\n",
        "# Preprocess\n",
        "X = train.drop(columns=['Y', 'RecordId'])\n",
        "Y = train['Y']\n",
        "test = test.drop(columns=['RecordId'])\n",
        "\n",
        "imputer = SimpleImputer(strategy='mean')\n",
        "X = imputer.fit_transform(X)\n",
        "test = imputer.transform(test)\n",
        "\n",
        "X_train, X_test, y_train, y_test = train_test_split(X, Y, test_size=0.2, random_state=42)\n",
        "\n",
        "# Train model\n",
        "xgb_model = XGBClassifier(\n",
        "    max_depth=3,\n",
        "    n_estimators=261,\n",
        "    learning_rate=0.1,\n",
        "    min_child_weight=2,\n",
        "    subsample=0.8,\n",
        "    colsample_bytree=0.8\n",
        ")\n",
        "xgb_model.fit(X_train, y_train)\n",
        "\n",
        "# Evaluate\n",
        "predicted_probab = xgb_model.predict_proba(X_test)[:, 1]\n",
        "auc_score = roc_auc_score(y_test, predicted_probab)\n",
        "print('ROC AUC of the xgb model:', auc_score)\n",
        "\n",
        "# Parallel prediction on test set\n",
        "def predict_chunk(chunk):\n",
        "    return xgb_model.predict_proba(chunk)[:, 1]\n",
        "\n",
        "chunk_size = 1000\n",
        "test_chunks = [test[i:i+chunk_size] for i in range(0, len(test), chunk_size)]\n",
        "\n",
        "# Farm-style parallel execution\n",
        "final_probs = Parallel(n_jobs=-1)(delayed(predict_chunk)(chunk) for chunk in test_chunks)\n",
        "final_prob = np.concatenate(final_probs)\n",
        "\n",
        "# End timer\n",
        "end_time = time.time()\n",
        "print(f\"Parallel execution time: {end_time - start_time:.2f} seconds\")\n",
        "\n",
        "# Saving predictions to CSV\n",
        "df_sample = pd.read_csv('/content/sample_submission.csv')  # <-- corrected line\n",
        "df_sample['Y'] = final_prob\n",
        "df_sample.to_csv('/content/sample_submission_xgbboost.csv', index=False)\n"
      ],
      "metadata": {
        "colab": {
          "base_uri": "https://localhost:8080/"
        },
        "id": "BxV8q6pU6RyR",
        "outputId": "9f49a913-9a83-4ff3-c4ed-91574f976a73"
      },
      "execution_count": 2,
      "outputs": [
        {
          "output_type": "stream",
          "name": "stdout",
          "text": [
            "ROC AUC of the xgb model: 0.9634332871070214\n",
            "Parallel execution time: 17.76 seconds\n"
          ]
        }
      ]
    },
    {
      "cell_type": "code",
      "source": [
        "from xgboost import XGBClassifier\n",
        "import time\n",
        "\n",
        "# Start timer\n",
        "X_train, X_test, y_train, y_test = train_test_split(X, Y, test_size=0.2, random_state=42)\n",
        "\n",
        "# Train with GPU support\n",
        "xgb_model_gpu = XGBClassifier(\n",
        "    tree_method='gpu_hist',   # enables GPU acceleration\n",
        "    device='cuda',\n",
        "    max_depth=3,\n",
        "    n_estimators=261,\n",
        "    learning_rate=0.1,\n",
        "    min_child_weight=2,\n",
        "    subsample=0.8,\n",
        "    colsample_bytree=0.8,\n",
        "    eval_metric='auc'\n",
        ")\n",
        "\n",
        "start_time = time.time()\n",
        "\n",
        "xgb_model_gpu.fit(X_train, y_train)\n",
        "\n",
        "# Prediction and evaluation\n",
        "predicted_gpu_probab = xgb_model_gpu.predict_proba(X_test)[:, 1]\n",
        "auc_score_gpu = roc_auc_score(y_test, predicted_gpu_probab)\n",
        "\n",
        "# End timer\n",
        "end_time = time.time()\n",
        "print(\"GPU Training Time:\", end_time - start_time, \"seconds\")\n",
        "print(\"ROC AUC with GPU:\", auc_score_gpu)\n",
        "\n",
        "# Saving predictions to CSV\n",
        "df_sample = pd.read_csv('/content/sample_submission.csv')  # <-- corrected line\n",
        "df_sample['Y'] = final_prob\n",
        "df_sample.to_csv('/content/sample_submission_xgbboost.csv', index=False)\n"
      ],
      "metadata": {
        "colab": {
          "base_uri": "https://localhost:8080/"
        },
        "id": "oCqWzTQbC5vq",
        "outputId": "668b27e8-fcf7-4060-f993-a70914f0bcd5"
      },
      "execution_count": 10,
      "outputs": [
        {
          "output_type": "stream",
          "name": "stderr",
          "text": [
            "/usr/local/lib/python3.11/dist-packages/xgboost/core.py:158: UserWarning: [11:47:49] WARNING: /workspace/src/common/error_msg.cc:27: The tree method `gpu_hist` is deprecated since 2.0.0. To use GPU training, set the `device` parameter to CUDA instead.\n",
            "\n",
            "    E.g. tree_method = \"hist\", device = \"cuda\"\n",
            "\n",
            "  warnings.warn(smsg, UserWarning)\n",
            "/usr/local/lib/python3.11/dist-packages/xgboost/core.py:158: UserWarning: [11:47:50] WARNING: /workspace/src/common/error_msg.cc:27: The tree method `gpu_hist` is deprecated since 2.0.0. To use GPU training, set the `device` parameter to CUDA instead.\n",
            "\n",
            "    E.g. tree_method = \"hist\", device = \"cuda\"\n",
            "\n",
            "  warnings.warn(smsg, UserWarning)\n"
          ]
        },
        {
          "output_type": "stream",
          "name": "stdout",
          "text": [
            "GPU Training Time: 5.475257396697998 seconds\n",
            "ROC AUC with GPU: 0.9627271413525579\n"
          ]
        }
      ]
    },
    {
      "cell_type": "code",
      "source": [
        "import xgboost as xgb\n",
        "import time\n",
        "\n",
        "\n",
        "# Convert data to DMatrix and push to GPU\n",
        "dtrain = xgb.DMatrix(X_train, label=y_train)\n",
        "dtest = xgb.DMatrix(X_test, label=y_test)\n",
        "\n",
        "params = {\n",
        "    'tree_method': 'hist',\n",
        "    'device': 'cuda',  # use GPU\n",
        "    'max_depth': 3,\n",
        "    'eta': 0.1,\n",
        "    'objective': 'binary:logistic',\n",
        "    'eval_metric': 'auc',\n",
        "    'min_child_weight': 2,\n",
        "    'subsample': 0.8,\n",
        "    'colsample_bytree': 0.8\n",
        "}\n",
        "\n",
        "# Train the model\n",
        "start = time.time()\n",
        "booster = xgb.train(params, dtrain, num_boost_round=261)\n",
        "end = time.time()\n",
        "\n",
        "# Predict and evaluate\n",
        "preds = booster.predict(dtest)\n",
        "auc_gpu = roc_auc_score(y_test, preds)\n",
        "\n",
        "print(\"GPU Training Time:\", end - start, \"seconds\")\n",
        "print(\"ROC AUC with GPU:\", auc_gpu)\n"
      ],
      "metadata": {
        "colab": {
          "base_uri": "https://localhost:8080/"
        },
        "id": "c6c3ddYGG-BP",
        "outputId": "7c55f44c-8ea7-4a6f-e91a-e8b4c3f3f260"
      },
      "execution_count": 11,
      "outputs": [
        {
          "output_type": "stream",
          "name": "stdout",
          "text": [
            "GPU Training Time: 0.9442901611328125 seconds\n",
            "ROC AUC with GPU: 0.962781076935298\n"
          ]
        }
      ]
    }
  ]
}